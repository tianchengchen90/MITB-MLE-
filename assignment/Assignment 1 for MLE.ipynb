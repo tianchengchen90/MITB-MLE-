{
 "cells": [
  {
   "cell_type": "code",
   "execution_count": 1,
   "id": "86dbed76",
   "metadata": {},
   "outputs": [],
   "source": [
    "import pandas as pd"
   ]
  },
  {
   "cell_type": "code",
   "execution_count": 4,
   "id": "1e9f7b45",
   "metadata": {},
   "outputs": [],
   "source": [
    "cs_df = pd.read_csv('feature_clickstream.csv')"
   ]
  },
  {
   "cell_type": "code",
   "execution_count": 7,
   "id": "28f7fc8a",
   "metadata": {},
   "outputs": [],
   "source": [
    "# Set the option to display a maximum of 30 columns (more than your 20)\n",
    "pd.set_option('display.max_columns', 30)"
   ]
  },
  {
   "cell_type": "code",
   "execution_count": 8,
   "id": "be064173",
   "metadata": {},
   "outputs": [
    {
     "data": {
      "text/html": [
       "<div>\n",
       "<style scoped>\n",
       "    .dataframe tbody tr th:only-of-type {\n",
       "        vertical-align: middle;\n",
       "    }\n",
       "\n",
       "    .dataframe tbody tr th {\n",
       "        vertical-align: top;\n",
       "    }\n",
       "\n",
       "    .dataframe thead th {\n",
       "        text-align: right;\n",
       "    }\n",
       "</style>\n",
       "<table border=\"1\" class=\"dataframe\">\n",
       "  <thead>\n",
       "    <tr style=\"text-align: right;\">\n",
       "      <th></th>\n",
       "      <th>fe_1</th>\n",
       "      <th>fe_2</th>\n",
       "      <th>fe_3</th>\n",
       "      <th>fe_4</th>\n",
       "      <th>fe_5</th>\n",
       "      <th>fe_6</th>\n",
       "      <th>fe_7</th>\n",
       "      <th>fe_8</th>\n",
       "      <th>fe_9</th>\n",
       "      <th>fe_10</th>\n",
       "      <th>fe_11</th>\n",
       "      <th>fe_12</th>\n",
       "      <th>fe_13</th>\n",
       "      <th>fe_14</th>\n",
       "      <th>fe_15</th>\n",
       "      <th>fe_16</th>\n",
       "      <th>fe_17</th>\n",
       "      <th>fe_18</th>\n",
       "      <th>fe_19</th>\n",
       "      <th>fe_20</th>\n",
       "      <th>Customer_ID</th>\n",
       "      <th>snapshot_date</th>\n",
       "    </tr>\n",
       "  </thead>\n",
       "  <tbody>\n",
       "    <tr>\n",
       "      <th>0</th>\n",
       "      <td>63</td>\n",
       "      <td>118</td>\n",
       "      <td>80</td>\n",
       "      <td>121</td>\n",
       "      <td>55</td>\n",
       "      <td>193</td>\n",
       "      <td>111</td>\n",
       "      <td>112</td>\n",
       "      <td>-101</td>\n",
       "      <td>83</td>\n",
       "      <td>164</td>\n",
       "      <td>105</td>\n",
       "      <td>-16</td>\n",
       "      <td>-81</td>\n",
       "      <td>-126</td>\n",
       "      <td>114</td>\n",
       "      <td>35</td>\n",
       "      <td>85</td>\n",
       "      <td>-73</td>\n",
       "      <td>76</td>\n",
       "      <td>CUS_0x1037</td>\n",
       "      <td>2023-01-01</td>\n",
       "    </tr>\n",
       "    <tr>\n",
       "      <th>1</th>\n",
       "      <td>-108</td>\n",
       "      <td>182</td>\n",
       "      <td>123</td>\n",
       "      <td>4</td>\n",
       "      <td>-56</td>\n",
       "      <td>27</td>\n",
       "      <td>25</td>\n",
       "      <td>-6</td>\n",
       "      <td>284</td>\n",
       "      <td>222</td>\n",
       "      <td>203</td>\n",
       "      <td>190</td>\n",
       "      <td>-14</td>\n",
       "      <td>-96</td>\n",
       "      <td>200</td>\n",
       "      <td>35</td>\n",
       "      <td>130</td>\n",
       "      <td>94</td>\n",
       "      <td>111</td>\n",
       "      <td>75</td>\n",
       "      <td>CUS_0x1069</td>\n",
       "      <td>2023-01-01</td>\n",
       "    </tr>\n",
       "    <tr>\n",
       "      <th>2</th>\n",
       "      <td>-13</td>\n",
       "      <td>8</td>\n",
       "      <td>87</td>\n",
       "      <td>166</td>\n",
       "      <td>214</td>\n",
       "      <td>-98</td>\n",
       "      <td>215</td>\n",
       "      <td>152</td>\n",
       "      <td>129</td>\n",
       "      <td>139</td>\n",
       "      <td>14</td>\n",
       "      <td>203</td>\n",
       "      <td>26</td>\n",
       "      <td>86</td>\n",
       "      <td>171</td>\n",
       "      <td>125</td>\n",
       "      <td>-130</td>\n",
       "      <td>354</td>\n",
       "      <td>17</td>\n",
       "      <td>302</td>\n",
       "      <td>CUS_0x114a</td>\n",
       "      <td>2023-01-01</td>\n",
       "    </tr>\n",
       "    <tr>\n",
       "      <th>3</th>\n",
       "      <td>-85</td>\n",
       "      <td>45</td>\n",
       "      <td>200</td>\n",
       "      <td>89</td>\n",
       "      <td>128</td>\n",
       "      <td>54</td>\n",
       "      <td>76</td>\n",
       "      <td>51</td>\n",
       "      <td>61</td>\n",
       "      <td>139</td>\n",
       "      <td>6</td>\n",
       "      <td>197</td>\n",
       "      <td>172</td>\n",
       "      <td>96</td>\n",
       "      <td>174</td>\n",
       "      <td>163</td>\n",
       "      <td>37</td>\n",
       "      <td>207</td>\n",
       "      <td>180</td>\n",
       "      <td>118</td>\n",
       "      <td>CUS_0x1184</td>\n",
       "      <td>2023-01-01</td>\n",
       "    </tr>\n",
       "    <tr>\n",
       "      <th>4</th>\n",
       "      <td>55</td>\n",
       "      <td>120</td>\n",
       "      <td>226</td>\n",
       "      <td>-86</td>\n",
       "      <td>253</td>\n",
       "      <td>97</td>\n",
       "      <td>107</td>\n",
       "      <td>68</td>\n",
       "      <td>103</td>\n",
       "      <td>126</td>\n",
       "      <td>34</td>\n",
       "      <td>12</td>\n",
       "      <td>76</td>\n",
       "      <td>43</td>\n",
       "      <td>183</td>\n",
       "      <td>159</td>\n",
       "      <td>-26</td>\n",
       "      <td>104</td>\n",
       "      <td>118</td>\n",
       "      <td>184</td>\n",
       "      <td>CUS_0x1297</td>\n",
       "      <td>2023-01-01</td>\n",
       "    </tr>\n",
       "  </tbody>\n",
       "</table>\n",
       "</div>"
      ],
      "text/plain": [
       "   fe_1  fe_2  fe_3  fe_4  fe_5  fe_6  fe_7  fe_8  fe_9  fe_10  fe_11  fe_12  \\\n",
       "0    63   118    80   121    55   193   111   112  -101     83    164    105   \n",
       "1  -108   182   123     4   -56    27    25    -6   284    222    203    190   \n",
       "2   -13     8    87   166   214   -98   215   152   129    139     14    203   \n",
       "3   -85    45   200    89   128    54    76    51    61    139      6    197   \n",
       "4    55   120   226   -86   253    97   107    68   103    126     34     12   \n",
       "\n",
       "   fe_13  fe_14  fe_15  fe_16  fe_17  fe_18  fe_19  fe_20 Customer_ID  \\\n",
       "0    -16    -81   -126    114     35     85    -73     76  CUS_0x1037   \n",
       "1    -14    -96    200     35    130     94    111     75  CUS_0x1069   \n",
       "2     26     86    171    125   -130    354     17    302  CUS_0x114a   \n",
       "3    172     96    174    163     37    207    180    118  CUS_0x1184   \n",
       "4     76     43    183    159    -26    104    118    184  CUS_0x1297   \n",
       "\n",
       "  snapshot_date  \n",
       "0    2023-01-01  \n",
       "1    2023-01-01  \n",
       "2    2023-01-01  \n",
       "3    2023-01-01  \n",
       "4    2023-01-01  "
      ]
     },
     "execution_count": 8,
     "metadata": {},
     "output_type": "execute_result"
    }
   ],
   "source": [
    "cs_df.head()"
   ]
  },
  {
   "cell_type": "code",
   "execution_count": 6,
   "id": "78d4fdb3",
   "metadata": {},
   "outputs": [
    {
     "name": "stdout",
     "output_type": "stream",
     "text": [
      "<class 'pandas.core.frame.DataFrame'>\n",
      "RangeIndex: 215376 entries, 0 to 215375\n",
      "Data columns (total 22 columns):\n",
      " #   Column         Non-Null Count   Dtype \n",
      "---  ------         --------------   ----- \n",
      " 0   fe_1           215376 non-null  int64 \n",
      " 1   fe_2           215376 non-null  int64 \n",
      " 2   fe_3           215376 non-null  int64 \n",
      " 3   fe_4           215376 non-null  int64 \n",
      " 4   fe_5           215376 non-null  int64 \n",
      " 5   fe_6           215376 non-null  int64 \n",
      " 6   fe_7           215376 non-null  int64 \n",
      " 7   fe_8           215376 non-null  int64 \n",
      " 8   fe_9           215376 non-null  int64 \n",
      " 9   fe_10          215376 non-null  int64 \n",
      " 10  fe_11          215376 non-null  int64 \n",
      " 11  fe_12          215376 non-null  int64 \n",
      " 12  fe_13          215376 non-null  int64 \n",
      " 13  fe_14          215376 non-null  int64 \n",
      " 14  fe_15          215376 non-null  int64 \n",
      " 15  fe_16          215376 non-null  int64 \n",
      " 16  fe_17          215376 non-null  int64 \n",
      " 17  fe_18          215376 non-null  int64 \n",
      " 18  fe_19          215376 non-null  int64 \n",
      " 19  fe_20          215376 non-null  int64 \n",
      " 20  Customer_ID    215376 non-null  object\n",
      " 21  snapshot_date  215376 non-null  object\n",
      "dtypes: int64(20), object(2)\n",
      "memory usage: 36.2+ MB\n"
     ]
    }
   ],
   "source": [
    "cs_df.info()"
   ]
  },
  {
   "cell_type": "markdown",
   "id": "83fbfdac",
   "metadata": {},
   "source": [
    "Noted that there are 20 features which are numbers, then string for customer id then snapshot date. "
   ]
  },
  {
   "cell_type": "markdown",
   "id": "f7193426",
   "metadata": {},
   "source": [
    "Potential areas to explore.\n",
    "1) rows, or \n",
    "2) format for customer ID in the form of CUS_0x1037\n",
    "which is CUS_123456\n",
    "3) check if there are any weird dates that are min and max\n"
   ]
  },
  {
   "cell_type": "markdown",
   "id": "bf78caa0",
   "metadata": {},
   "source": []
  },
  {
   "cell_type": "code",
   "execution_count": 9,
   "id": "55c505e0",
   "metadata": {},
   "outputs": [
    {
     "data": {
      "text/plain": [
       "'2024-12-01'"
      ]
     },
     "execution_count": 9,
     "metadata": {},
     "output_type": "execute_result"
    }
   ],
   "source": [
    "cs_df['snapshot_date'].max()"
   ]
  },
  {
   "cell_type": "code",
   "execution_count": 12,
   "id": "05bfa3ea",
   "metadata": {},
   "outputs": [
    {
     "data": {
      "text/html": [
       "<div>\n",
       "<style scoped>\n",
       "    .dataframe tbody tr th:only-of-type {\n",
       "        vertical-align: middle;\n",
       "    }\n",
       "\n",
       "    .dataframe tbody tr th {\n",
       "        vertical-align: top;\n",
       "    }\n",
       "\n",
       "    .dataframe thead th {\n",
       "        text-align: right;\n",
       "    }\n",
       "</style>\n",
       "<table border=\"1\" class=\"dataframe\">\n",
       "  <thead>\n",
       "    <tr style=\"text-align: right;\">\n",
       "      <th></th>\n",
       "      <th>fe_1</th>\n",
       "      <th>fe_2</th>\n",
       "      <th>fe_3</th>\n",
       "      <th>fe_4</th>\n",
       "      <th>fe_5</th>\n",
       "      <th>fe_6</th>\n",
       "      <th>fe_7</th>\n",
       "      <th>fe_8</th>\n",
       "      <th>fe_9</th>\n",
       "      <th>fe_10</th>\n",
       "      <th>fe_11</th>\n",
       "      <th>fe_12</th>\n",
       "      <th>fe_13</th>\n",
       "      <th>fe_14</th>\n",
       "      <th>fe_15</th>\n",
       "      <th>fe_16</th>\n",
       "      <th>fe_17</th>\n",
       "      <th>fe_18</th>\n",
       "      <th>fe_19</th>\n",
       "      <th>fe_20</th>\n",
       "      <th>Customer_ID</th>\n",
       "      <th>snapshot_date</th>\n",
       "    </tr>\n",
       "  </thead>\n",
       "  <tbody>\n",
       "    <tr>\n",
       "      <th>206402</th>\n",
       "      <td>145</td>\n",
       "      <td>189</td>\n",
       "      <td>109</td>\n",
       "      <td>134</td>\n",
       "      <td>196</td>\n",
       "      <td>-37</td>\n",
       "      <td>101</td>\n",
       "      <td>82</td>\n",
       "      <td>111</td>\n",
       "      <td>24</td>\n",
       "      <td>-26</td>\n",
       "      <td>-17</td>\n",
       "      <td>65</td>\n",
       "      <td>249</td>\n",
       "      <td>200</td>\n",
       "      <td>185</td>\n",
       "      <td>-83</td>\n",
       "      <td>-18</td>\n",
       "      <td>-76</td>\n",
       "      <td>30</td>\n",
       "      <td>CUS_0x1037</td>\n",
       "      <td>2024-12-01</td>\n",
       "    </tr>\n",
       "    <tr>\n",
       "      <th>206403</th>\n",
       "      <td>40</td>\n",
       "      <td>184</td>\n",
       "      <td>187</td>\n",
       "      <td>75</td>\n",
       "      <td>192</td>\n",
       "      <td>146</td>\n",
       "      <td>38</td>\n",
       "      <td>109</td>\n",
       "      <td>353</td>\n",
       "      <td>141</td>\n",
       "      <td>-9</td>\n",
       "      <td>-22</td>\n",
       "      <td>-14</td>\n",
       "      <td>193</td>\n",
       "      <td>125</td>\n",
       "      <td>117</td>\n",
       "      <td>215</td>\n",
       "      <td>91</td>\n",
       "      <td>33</td>\n",
       "      <td>255</td>\n",
       "      <td>CUS_0x1069</td>\n",
       "      <td>2024-12-01</td>\n",
       "    </tr>\n",
       "    <tr>\n",
       "      <th>206404</th>\n",
       "      <td>98</td>\n",
       "      <td>121</td>\n",
       "      <td>180</td>\n",
       "      <td>200</td>\n",
       "      <td>95</td>\n",
       "      <td>48</td>\n",
       "      <td>59</td>\n",
       "      <td>194</td>\n",
       "      <td>76</td>\n",
       "      <td>84</td>\n",
       "      <td>298</td>\n",
       "      <td>-57</td>\n",
       "      <td>167</td>\n",
       "      <td>101</td>\n",
       "      <td>92</td>\n",
       "      <td>185</td>\n",
       "      <td>98</td>\n",
       "      <td>68</td>\n",
       "      <td>-60</td>\n",
       "      <td>116</td>\n",
       "      <td>CUS_0x114a</td>\n",
       "      <td>2024-12-01</td>\n",
       "    </tr>\n",
       "    <tr>\n",
       "      <th>206405</th>\n",
       "      <td>85</td>\n",
       "      <td>96</td>\n",
       "      <td>19</td>\n",
       "      <td>47</td>\n",
       "      <td>30</td>\n",
       "      <td>39</td>\n",
       "      <td>-32</td>\n",
       "      <td>210</td>\n",
       "      <td>-81</td>\n",
       "      <td>206</td>\n",
       "      <td>37</td>\n",
       "      <td>105</td>\n",
       "      <td>143</td>\n",
       "      <td>94</td>\n",
       "      <td>139</td>\n",
       "      <td>237</td>\n",
       "      <td>78</td>\n",
       "      <td>187</td>\n",
       "      <td>77</td>\n",
       "      <td>33</td>\n",
       "      <td>CUS_0x1184</td>\n",
       "      <td>2024-12-01</td>\n",
       "    </tr>\n",
       "    <tr>\n",
       "      <th>206406</th>\n",
       "      <td>98</td>\n",
       "      <td>45</td>\n",
       "      <td>155</td>\n",
       "      <td>56</td>\n",
       "      <td>112</td>\n",
       "      <td>47</td>\n",
       "      <td>52</td>\n",
       "      <td>138</td>\n",
       "      <td>153</td>\n",
       "      <td>225</td>\n",
       "      <td>31</td>\n",
       "      <td>40</td>\n",
       "      <td>-43</td>\n",
       "      <td>142</td>\n",
       "      <td>121</td>\n",
       "      <td>10</td>\n",
       "      <td>189</td>\n",
       "      <td>110</td>\n",
       "      <td>264</td>\n",
       "      <td>241</td>\n",
       "      <td>CUS_0x1297</td>\n",
       "      <td>2024-12-01</td>\n",
       "    </tr>\n",
       "    <tr>\n",
       "      <th>...</th>\n",
       "      <td>...</td>\n",
       "      <td>...</td>\n",
       "      <td>...</td>\n",
       "      <td>...</td>\n",
       "      <td>...</td>\n",
       "      <td>...</td>\n",
       "      <td>...</td>\n",
       "      <td>...</td>\n",
       "      <td>...</td>\n",
       "      <td>...</td>\n",
       "      <td>...</td>\n",
       "      <td>...</td>\n",
       "      <td>...</td>\n",
       "      <td>...</td>\n",
       "      <td>...</td>\n",
       "      <td>...</td>\n",
       "      <td>...</td>\n",
       "      <td>...</td>\n",
       "      <td>...</td>\n",
       "      <td>...</td>\n",
       "      <td>...</td>\n",
       "      <td>...</td>\n",
       "    </tr>\n",
       "    <tr>\n",
       "      <th>215371</th>\n",
       "      <td>414</td>\n",
       "      <td>22</td>\n",
       "      <td>72</td>\n",
       "      <td>57</td>\n",
       "      <td>142</td>\n",
       "      <td>192</td>\n",
       "      <td>11</td>\n",
       "      <td>139</td>\n",
       "      <td>24</td>\n",
       "      <td>63</td>\n",
       "      <td>43</td>\n",
       "      <td>191</td>\n",
       "      <td>179</td>\n",
       "      <td>91</td>\n",
       "      <td>20</td>\n",
       "      <td>189</td>\n",
       "      <td>-35</td>\n",
       "      <td>-19</td>\n",
       "      <td>15</td>\n",
       "      <td>66</td>\n",
       "      <td>CUS_0xdf6</td>\n",
       "      <td>2024-12-01</td>\n",
       "    </tr>\n",
       "    <tr>\n",
       "      <th>215372</th>\n",
       "      <td>116</td>\n",
       "      <td>-124</td>\n",
       "      <td>-108</td>\n",
       "      <td>212</td>\n",
       "      <td>-21</td>\n",
       "      <td>227</td>\n",
       "      <td>146</td>\n",
       "      <td>112</td>\n",
       "      <td>186</td>\n",
       "      <td>-65</td>\n",
       "      <td>292</td>\n",
       "      <td>35</td>\n",
       "      <td>38</td>\n",
       "      <td>226</td>\n",
       "      <td>319</td>\n",
       "      <td>98</td>\n",
       "      <td>9</td>\n",
       "      <td>152</td>\n",
       "      <td>17</td>\n",
       "      <td>14</td>\n",
       "      <td>CUS_0xe23</td>\n",
       "      <td>2024-12-01</td>\n",
       "    </tr>\n",
       "    <tr>\n",
       "      <th>215373</th>\n",
       "      <td>237</td>\n",
       "      <td>-3</td>\n",
       "      <td>-49</td>\n",
       "      <td>375</td>\n",
       "      <td>144</td>\n",
       "      <td>41</td>\n",
       "      <td>-170</td>\n",
       "      <td>324</td>\n",
       "      <td>19</td>\n",
       "      <td>266</td>\n",
       "      <td>275</td>\n",
       "      <td>80</td>\n",
       "      <td>7</td>\n",
       "      <td>102</td>\n",
       "      <td>64</td>\n",
       "      <td>191</td>\n",
       "      <td>124</td>\n",
       "      <td>220</td>\n",
       "      <td>231</td>\n",
       "      <td>75</td>\n",
       "      <td>CUS_0xe4e</td>\n",
       "      <td>2024-12-01</td>\n",
       "    </tr>\n",
       "    <tr>\n",
       "      <th>215374</th>\n",
       "      <td>5</td>\n",
       "      <td>67</td>\n",
       "      <td>211</td>\n",
       "      <td>83</td>\n",
       "      <td>207</td>\n",
       "      <td>-41</td>\n",
       "      <td>325</td>\n",
       "      <td>14</td>\n",
       "      <td>-18</td>\n",
       "      <td>41</td>\n",
       "      <td>133</td>\n",
       "      <td>61</td>\n",
       "      <td>109</td>\n",
       "      <td>266</td>\n",
       "      <td>28</td>\n",
       "      <td>157</td>\n",
       "      <td>131</td>\n",
       "      <td>116</td>\n",
       "      <td>101</td>\n",
       "      <td>131</td>\n",
       "      <td>CUS_0xedd</td>\n",
       "      <td>2024-12-01</td>\n",
       "    </tr>\n",
       "    <tr>\n",
       "      <th>215375</th>\n",
       "      <td>196</td>\n",
       "      <td>11</td>\n",
       "      <td>115</td>\n",
       "      <td>94</td>\n",
       "      <td>167</td>\n",
       "      <td>227</td>\n",
       "      <td>119</td>\n",
       "      <td>255</td>\n",
       "      <td>32</td>\n",
       "      <td>96</td>\n",
       "      <td>99</td>\n",
       "      <td>24</td>\n",
       "      <td>120</td>\n",
       "      <td>85</td>\n",
       "      <td>363</td>\n",
       "      <td>74</td>\n",
       "      <td>-26</td>\n",
       "      <td>107</td>\n",
       "      <td>104</td>\n",
       "      <td>186</td>\n",
       "      <td>CUS_0xfe4</td>\n",
       "      <td>2024-12-01</td>\n",
       "    </tr>\n",
       "  </tbody>\n",
       "</table>\n",
       "<p>8974 rows × 22 columns</p>\n",
       "</div>"
      ],
      "text/plain": [
       "        fe_1  fe_2  fe_3  fe_4  fe_5  fe_6  fe_7  fe_8  fe_9  fe_10  fe_11  \\\n",
       "206402   145   189   109   134   196   -37   101    82   111     24    -26   \n",
       "206403    40   184   187    75   192   146    38   109   353    141     -9   \n",
       "206404    98   121   180   200    95    48    59   194    76     84    298   \n",
       "206405    85    96    19    47    30    39   -32   210   -81    206     37   \n",
       "206406    98    45   155    56   112    47    52   138   153    225     31   \n",
       "...      ...   ...   ...   ...   ...   ...   ...   ...   ...    ...    ...   \n",
       "215371   414    22    72    57   142   192    11   139    24     63     43   \n",
       "215372   116  -124  -108   212   -21   227   146   112   186    -65    292   \n",
       "215373   237    -3   -49   375   144    41  -170   324    19    266    275   \n",
       "215374     5    67   211    83   207   -41   325    14   -18     41    133   \n",
       "215375   196    11   115    94   167   227   119   255    32     96     99   \n",
       "\n",
       "        fe_12  fe_13  fe_14  fe_15  fe_16  fe_17  fe_18  fe_19  fe_20  \\\n",
       "206402    -17     65    249    200    185    -83    -18    -76     30   \n",
       "206403    -22    -14    193    125    117    215     91     33    255   \n",
       "206404    -57    167    101     92    185     98     68    -60    116   \n",
       "206405    105    143     94    139    237     78    187     77     33   \n",
       "206406     40    -43    142    121     10    189    110    264    241   \n",
       "...       ...    ...    ...    ...    ...    ...    ...    ...    ...   \n",
       "215371    191    179     91     20    189    -35    -19     15     66   \n",
       "215372     35     38    226    319     98      9    152     17     14   \n",
       "215373     80      7    102     64    191    124    220    231     75   \n",
       "215374     61    109    266     28    157    131    116    101    131   \n",
       "215375     24    120     85    363     74    -26    107    104    186   \n",
       "\n",
       "       Customer_ID snapshot_date  \n",
       "206402  CUS_0x1037    2024-12-01  \n",
       "206403  CUS_0x1069    2024-12-01  \n",
       "206404  CUS_0x114a    2024-12-01  \n",
       "206405  CUS_0x1184    2024-12-01  \n",
       "206406  CUS_0x1297    2024-12-01  \n",
       "...            ...           ...  \n",
       "215371   CUS_0xdf6    2024-12-01  \n",
       "215372   CUS_0xe23    2024-12-01  \n",
       "215373   CUS_0xe4e    2024-12-01  \n",
       "215374   CUS_0xedd    2024-12-01  \n",
       "215375   CUS_0xfe4    2024-12-01  \n",
       "\n",
       "[8974 rows x 22 columns]"
      ]
     },
     "execution_count": 12,
     "metadata": {},
     "output_type": "execute_result"
    }
   ],
   "source": [
    "cs_df[cs_df['snapshot_date']==cs_df['snapshot_date'].max()]"
   ]
  },
  {
   "cell_type": "code",
   "execution_count": 10,
   "id": "5dd92b60",
   "metadata": {},
   "outputs": [
    {
     "data": {
      "text/plain": [
       "'2023-01-01'"
      ]
     },
     "execution_count": 10,
     "metadata": {},
     "output_type": "execute_result"
    }
   ],
   "source": [
    "cs_df['snapshot_date'].min()"
   ]
  },
  {
   "cell_type": "code",
   "execution_count": 16,
   "id": "74f9ede1",
   "metadata": {},
   "outputs": [
    {
     "data": {
      "text/plain": [
       "snapshot_date\n",
       "2023-01-01    8974\n",
       "2024-10-01    8974\n",
       "2024-09-01    8974\n",
       "2024-08-01    8974\n",
       "2024-07-01    8974\n",
       "2024-06-01    8974\n",
       "2024-05-01    8974\n",
       "2024-04-01    8974\n",
       "2024-03-01    8974\n",
       "2024-02-01    8974\n",
       "2024-01-01    8974\n",
       "2023-12-01    8974\n",
       "2023-11-01    8974\n",
       "2023-10-01    8974\n",
       "2023-09-01    8974\n",
       "2023-08-01    8974\n",
       "2023-07-01    8974\n",
       "2023-06-01    8974\n",
       "2023-05-01    8974\n",
       "2023-04-01    8974\n",
       "2023-03-01    8974\n",
       "2023-02-01    8974\n",
       "2024-11-01    8974\n",
       "2024-12-01    8974\n",
       "Name: count, dtype: int64"
      ]
     },
     "execution_count": 16,
     "metadata": {},
     "output_type": "execute_result"
    }
   ],
   "source": [
    "cs_df['snapshot_date'].value_counts(ascending=True)"
   ]
  },
  {
   "cell_type": "markdown",
   "id": "e0d9a177",
   "metadata": {},
   "source": [
    "Noted that the dataframe contains ascending dates from 1st of every month from 2023 to 2024. total of 24 different `snapshot_date`\n"
   ]
  },
  {
   "cell_type": "markdown",
   "id": "e1a773da",
   "metadata": {},
   "source": [
    "feature_clickstream should be ok"
   ]
  },
  {
   "cell_type": "code",
   "execution_count": null,
   "id": "49cca52e",
   "metadata": {},
   "outputs": [],
   "source": [
    "cs_df = pd.read_csv('feature_clickstream.csv')"
   ]
  },
  {
   "cell_type": "code",
   "execution_count": 17,
   "id": "2aae80a8",
   "metadata": {},
   "outputs": [],
   "source": [
    "attr_df = pd.read_csv('features_attributes.csv')"
   ]
  },
  {
   "cell_type": "code",
   "execution_count": 18,
   "id": "75aff826",
   "metadata": {},
   "outputs": [
    {
     "data": {
      "text/html": [
       "<div>\n",
       "<style scoped>\n",
       "    .dataframe tbody tr th:only-of-type {\n",
       "        vertical-align: middle;\n",
       "    }\n",
       "\n",
       "    .dataframe tbody tr th {\n",
       "        vertical-align: top;\n",
       "    }\n",
       "\n",
       "    .dataframe thead th {\n",
       "        text-align: right;\n",
       "    }\n",
       "</style>\n",
       "<table border=\"1\" class=\"dataframe\">\n",
       "  <thead>\n",
       "    <tr style=\"text-align: right;\">\n",
       "      <th></th>\n",
       "      <th>Customer_ID</th>\n",
       "      <th>Name</th>\n",
       "      <th>Age</th>\n",
       "      <th>SSN</th>\n",
       "      <th>Occupation</th>\n",
       "      <th>snapshot_date</th>\n",
       "    </tr>\n",
       "  </thead>\n",
       "  <tbody>\n",
       "    <tr>\n",
       "      <th>0</th>\n",
       "      <td>CUS_0x1000</td>\n",
       "      <td>Alistair Barrf</td>\n",
       "      <td>18</td>\n",
       "      <td>913-74-1218</td>\n",
       "      <td>Lawyer</td>\n",
       "      <td>2023-05-01</td>\n",
       "    </tr>\n",
       "    <tr>\n",
       "      <th>1</th>\n",
       "      <td>CUS_0x1009</td>\n",
       "      <td>Arunah</td>\n",
       "      <td>26</td>\n",
       "      <td>063-67-6938</td>\n",
       "      <td>Mechanic</td>\n",
       "      <td>2025-01-01</td>\n",
       "    </tr>\n",
       "    <tr>\n",
       "      <th>2</th>\n",
       "      <td>CUS_0x100b</td>\n",
       "      <td>Shirboni</td>\n",
       "      <td>19</td>\n",
       "      <td>#F%$D@*&amp;8</td>\n",
       "      <td>Media_Manager</td>\n",
       "      <td>2024-03-01</td>\n",
       "    </tr>\n",
       "    <tr>\n",
       "      <th>3</th>\n",
       "      <td>CUS_0x1011</td>\n",
       "      <td>Schneyerh</td>\n",
       "      <td>44</td>\n",
       "      <td>793-05-8223</td>\n",
       "      <td>Doctor</td>\n",
       "      <td>2023-11-01</td>\n",
       "    </tr>\n",
       "    <tr>\n",
       "      <th>4</th>\n",
       "      <td>CUS_0x1013</td>\n",
       "      <td>Cameront</td>\n",
       "      <td>44</td>\n",
       "      <td>930-49-9615</td>\n",
       "      <td>Mechanic</td>\n",
       "      <td>2023-12-01</td>\n",
       "    </tr>\n",
       "  </tbody>\n",
       "</table>\n",
       "</div>"
      ],
      "text/plain": [
       "  Customer_ID            Name Age          SSN     Occupation snapshot_date\n",
       "0  CUS_0x1000  Alistair Barrf  18  913-74-1218         Lawyer    2023-05-01\n",
       "1  CUS_0x1009          Arunah  26  063-67-6938       Mechanic    2025-01-01\n",
       "2  CUS_0x100b        Shirboni  19    #F%$D@*&8  Media_Manager    2024-03-01\n",
       "3  CUS_0x1011       Schneyerh  44  793-05-8223         Doctor    2023-11-01\n",
       "4  CUS_0x1013        Cameront  44  930-49-9615       Mechanic    2023-12-01"
      ]
     },
     "execution_count": 18,
     "metadata": {},
     "output_type": "execute_result"
    }
   ],
   "source": [
    "attr_df.head()"
   ]
  },
  {
   "cell_type": "code",
   "execution_count": 20,
   "id": "641e14aa",
   "metadata": {},
   "outputs": [
    {
     "data": {
      "text/html": [
       "<div>\n",
       "<style scoped>\n",
       "    .dataframe tbody tr th:only-of-type {\n",
       "        vertical-align: middle;\n",
       "    }\n",
       "\n",
       "    .dataframe tbody tr th {\n",
       "        vertical-align: top;\n",
       "    }\n",
       "\n",
       "    .dataframe thead th {\n",
       "        text-align: right;\n",
       "    }\n",
       "</style>\n",
       "<table border=\"1\" class=\"dataframe\">\n",
       "  <thead>\n",
       "    <tr style=\"text-align: right;\">\n",
       "      <th></th>\n",
       "      <th>Customer_ID</th>\n",
       "      <th>Name</th>\n",
       "      <th>Age</th>\n",
       "      <th>SSN</th>\n",
       "      <th>Occupation</th>\n",
       "      <th>snapshot_date</th>\n",
       "    </tr>\n",
       "  </thead>\n",
       "  <tbody>\n",
       "    <tr>\n",
       "      <th>2</th>\n",
       "      <td>CUS_0x100b</td>\n",
       "      <td>Shirboni</td>\n",
       "      <td>19</td>\n",
       "      <td>#F%$D@*&amp;8</td>\n",
       "      <td>Media_Manager</td>\n",
       "      <td>2024-03-01</td>\n",
       "    </tr>\n",
       "  </tbody>\n",
       "</table>\n",
       "</div>"
      ],
      "text/plain": [
       "  Customer_ID      Name Age        SSN     Occupation snapshot_date\n",
       "2  CUS_0x100b  Shirboni  19  #F%$D@*&8  Media_Manager    2024-03-01"
      ]
     },
     "execution_count": 20,
     "metadata": {},
     "output_type": "execute_result"
    }
   ],
   "source": [
    "attr_df[attr_df['Customer_ID']=='CUS_0x100b']"
   ]
  },
  {
   "cell_type": "code",
   "execution_count": 21,
   "id": "2f738d35",
   "metadata": {},
   "outputs": [
    {
     "data": {
      "text/plain": [
       "'-500'"
      ]
     },
     "execution_count": 21,
     "metadata": {},
     "output_type": "execute_result"
    }
   ],
   "source": [
    "attr_df['Age'].min()"
   ]
  },
  {
   "cell_type": "code",
   "execution_count": 22,
   "id": "e8d07d24",
   "metadata": {},
   "outputs": [
    {
     "data": {
      "text/plain": [
       "Age\n",
       "26      364\n",
       "35      361\n",
       "39      360\n",
       "32      360\n",
       "38      345\n",
       "       ... \n",
       "5568      1\n",
       "1733      1\n",
       "6043      1\n",
       "4120      1\n",
       "509       1\n",
       "Name: count, Length: 301, dtype: int64"
      ]
     },
     "execution_count": 22,
     "metadata": {},
     "output_type": "execute_result"
    }
   ],
   "source": [
    "attr_df['Age'].value_counts()"
   ]
  },
  {
   "cell_type": "markdown",
   "id": "d68d934d",
   "metadata": {},
   "source": [
    "There are clearly ages that are more or less than normal. To do some form of removal from the data"
   ]
  },
  {
   "cell_type": "code",
   "execution_count": 24,
   "id": "104f971c",
   "metadata": {},
   "outputs": [],
   "source": [
    "import re"
   ]
  },
  {
   "cell_type": "code",
   "execution_count": 23,
   "id": "538eb2bf",
   "metadata": {},
   "outputs": [],
   "source": [
    "pattern = r'^\\d{3}-\\d{2}-\\d{4}$'"
   ]
  },
  {
   "cell_type": "markdown",
   "id": "20c1015e",
   "metadata": {},
   "source": []
  },
  {
   "cell_type": "code",
   "execution_count": 25,
   "id": "25b24e64",
   "metadata": {},
   "outputs": [],
   "source": [
    "invalid_mask = ~attr_df['SSN'].astype(str).str.match(pattern)"
   ]
  },
  {
   "cell_type": "code",
   "execution_count": 26,
   "id": "e842f6ab",
   "metadata": {},
   "outputs": [
    {
     "data": {
      "text/plain": [
       "0        False\n",
       "1        False\n",
       "2         True\n",
       "3        False\n",
       "4        False\n",
       "         ...  \n",
       "12495     True\n",
       "12496    False\n",
       "12497    False\n",
       "12498    False\n",
       "12499    False\n",
       "Name: SSN, Length: 12500, dtype: bool"
      ]
     },
     "execution_count": 26,
     "metadata": {},
     "output_type": "execute_result"
    }
   ],
   "source": [
    "invalid_mask"
   ]
  },
  {
   "cell_type": "code",
   "execution_count": 27,
   "id": "f19d617a",
   "metadata": {},
   "outputs": [
    {
     "data": {
      "text/html": [
       "<div>\n",
       "<style scoped>\n",
       "    .dataframe tbody tr th:only-of-type {\n",
       "        vertical-align: middle;\n",
       "    }\n",
       "\n",
       "    .dataframe tbody tr th {\n",
       "        vertical-align: top;\n",
       "    }\n",
       "\n",
       "    .dataframe thead th {\n",
       "        text-align: right;\n",
       "    }\n",
       "</style>\n",
       "<table border=\"1\" class=\"dataframe\">\n",
       "  <thead>\n",
       "    <tr style=\"text-align: right;\">\n",
       "      <th></th>\n",
       "      <th>Customer_ID</th>\n",
       "      <th>Name</th>\n",
       "      <th>Age</th>\n",
       "      <th>SSN</th>\n",
       "      <th>Occupation</th>\n",
       "      <th>snapshot_date</th>\n",
       "    </tr>\n",
       "  </thead>\n",
       "  <tbody>\n",
       "    <tr>\n",
       "      <th>2</th>\n",
       "      <td>CUS_0x100b</td>\n",
       "      <td>Shirboni</td>\n",
       "      <td>19</td>\n",
       "      <td>#F%$D@*&amp;8</td>\n",
       "      <td>Media_Manager</td>\n",
       "      <td>2024-03-01</td>\n",
       "    </tr>\n",
       "    <tr>\n",
       "      <th>9</th>\n",
       "      <td>CUS_0x102e</td>\n",
       "      <td>Rhysn</td>\n",
       "      <td>26</td>\n",
       "      <td>#F%$D@*&amp;8</td>\n",
       "      <td>Scientist</td>\n",
       "      <td>2024-04-01</td>\n",
       "    </tr>\n",
       "    <tr>\n",
       "      <th>15</th>\n",
       "      <td>CUS_0x1044</td>\n",
       "      <td>Maki Shirakip</td>\n",
       "      <td>44</td>\n",
       "      <td>#F%$D@*&amp;8</td>\n",
       "      <td>_______</td>\n",
       "      <td>2023-06-01</td>\n",
       "    </tr>\n",
       "    <tr>\n",
       "      <th>17</th>\n",
       "      <td>CUS_0x104a</td>\n",
       "      <td>Leahk</td>\n",
       "      <td>37</td>\n",
       "      <td>#F%$D@*&amp;8</td>\n",
       "      <td>Mechanic</td>\n",
       "      <td>2023-12-01</td>\n",
       "    </tr>\n",
       "    <tr>\n",
       "      <th>23</th>\n",
       "      <td>CUS_0x105b</td>\n",
       "      <td>Patricia Zengerlel</td>\n",
       "      <td>24</td>\n",
       "      <td>#F%$D@*&amp;8</td>\n",
       "      <td>Accountant</td>\n",
       "      <td>2023-11-01</td>\n",
       "    </tr>\n",
       "    <tr>\n",
       "      <th>...</th>\n",
       "      <td>...</td>\n",
       "      <td>...</td>\n",
       "      <td>...</td>\n",
       "      <td>...</td>\n",
       "      <td>...</td>\n",
       "      <td>...</td>\n",
       "    </tr>\n",
       "    <tr>\n",
       "      <th>12409</th>\n",
       "      <td>CUS_0xe94</td>\n",
       "      <td>Nishanta</td>\n",
       "      <td>53</td>\n",
       "      <td>#F%$D@*&amp;8</td>\n",
       "      <td>Musician</td>\n",
       "      <td>2024-03-01</td>\n",
       "    </tr>\n",
       "    <tr>\n",
       "      <th>12425</th>\n",
       "      <td>CUS_0xecc</td>\n",
       "      <td>Papadimase</td>\n",
       "      <td>25</td>\n",
       "      <td>#F%$D@*&amp;8</td>\n",
       "      <td>Lawyer</td>\n",
       "      <td>2024-11-01</td>\n",
       "    </tr>\n",
       "    <tr>\n",
       "      <th>12442</th>\n",
       "      <td>CUS_0xf20</td>\n",
       "      <td>Anurag Kotokyf</td>\n",
       "      <td>41</td>\n",
       "      <td>#F%$D@*&amp;8</td>\n",
       "      <td>Musician</td>\n",
       "      <td>2023-04-01</td>\n",
       "    </tr>\n",
       "    <tr>\n",
       "      <th>12446</th>\n",
       "      <td>CUS_0xf30</td>\n",
       "      <td>Hornbyb</td>\n",
       "      <td>29</td>\n",
       "      <td>#F%$D@*&amp;8</td>\n",
       "      <td>Journalist</td>\n",
       "      <td>2023-06-01</td>\n",
       "    </tr>\n",
       "    <tr>\n",
       "      <th>12495</th>\n",
       "      <td>CUS_0xff3</td>\n",
       "      <td>Somervilled</td>\n",
       "      <td>55</td>\n",
       "      <td>#F%$D@*&amp;8</td>\n",
       "      <td>Scientist</td>\n",
       "      <td>2024-06-01</td>\n",
       "    </tr>\n",
       "  </tbody>\n",
       "</table>\n",
       "<p>703 rows × 6 columns</p>\n",
       "</div>"
      ],
      "text/plain": [
       "      Customer_ID                Name Age        SSN     Occupation  \\\n",
       "2      CUS_0x100b            Shirboni  19  #F%$D@*&8  Media_Manager   \n",
       "9      CUS_0x102e               Rhysn  26  #F%$D@*&8      Scientist   \n",
       "15     CUS_0x1044       Maki Shirakip  44  #F%$D@*&8        _______   \n",
       "17     CUS_0x104a               Leahk  37  #F%$D@*&8       Mechanic   \n",
       "23     CUS_0x105b  Patricia Zengerlel  24  #F%$D@*&8     Accountant   \n",
       "...           ...                 ...  ..        ...            ...   \n",
       "12409   CUS_0xe94            Nishanta  53  #F%$D@*&8       Musician   \n",
       "12425   CUS_0xecc          Papadimase  25  #F%$D@*&8         Lawyer   \n",
       "12442   CUS_0xf20      Anurag Kotokyf  41  #F%$D@*&8       Musician   \n",
       "12446   CUS_0xf30             Hornbyb  29  #F%$D@*&8     Journalist   \n",
       "12495   CUS_0xff3         Somervilled  55  #F%$D@*&8      Scientist   \n",
       "\n",
       "      snapshot_date  \n",
       "2        2024-03-01  \n",
       "9        2024-04-01  \n",
       "15       2023-06-01  \n",
       "17       2023-12-01  \n",
       "23       2023-11-01  \n",
       "...             ...  \n",
       "12409    2024-03-01  \n",
       "12425    2024-11-01  \n",
       "12442    2023-04-01  \n",
       "12446    2023-06-01  \n",
       "12495    2024-06-01  \n",
       "\n",
       "[703 rows x 6 columns]"
      ]
     },
     "execution_count": 27,
     "metadata": {},
     "output_type": "execute_result"
    }
   ],
   "source": [
    "attr_df[invalid_mask==True]"
   ]
  },
  {
   "cell_type": "markdown",
   "id": "faad3291",
   "metadata": {},
   "source": [
    "These are invalid SSN, seems like they all ahve same SSN"
   ]
  },
  {
   "cell_type": "code",
   "execution_count": 28,
   "id": "fbb56aee",
   "metadata": {},
   "outputs": [
    {
     "data": {
      "text/plain": [
       "SSN\n",
       "#F%$D@*&8    703\n",
       "Name: count, dtype: int64"
      ]
     },
     "execution_count": 28,
     "metadata": {},
     "output_type": "execute_result"
    }
   ],
   "source": [
    "attr_df['SSN'][invalid_mask==True].value_counts()"
   ]
  },
  {
   "cell_type": "code",
   "execution_count": 30,
   "id": "a3b80ace",
   "metadata": {},
   "outputs": [
    {
     "data": {
      "text/plain": [
       "Occupation\n",
       "_______          880\n",
       "Lawyer           828\n",
       "Architect        795\n",
       "Engineer         793\n",
       "Accountant       791\n",
       "Scientist        789\n",
       "Teacher          782\n",
       "Mechanic         780\n",
       "Media_Manager    780\n",
       "Developer        780\n",
       "Entrepreneur     776\n",
       "Journalist       761\n",
       "Doctor           760\n",
       "Musician         741\n",
       "Manager          736\n",
       "Writer           728\n",
       "Name: count, dtype: int64"
      ]
     },
     "execution_count": 30,
     "metadata": {},
     "output_type": "execute_result"
    }
   ],
   "source": [
    "attr_df['Occupation'].value_counts()"
   ]
  },
  {
   "cell_type": "markdown",
   "id": "32413135",
   "metadata": {},
   "source": [
    "There is specific _______ occupation, unsure how to treat this. Is it missing value? To confirm with as it seems like a specific occupation is eraseed"
   ]
  },
  {
   "cell_type": "markdown",
   "id": "bc0b8798",
   "metadata": {},
   "source": []
  },
  {
   "cell_type": "code",
   "execution_count": 32,
   "id": "6834a6d7",
   "metadata": {},
   "outputs": [
    {
     "data": {
      "image/png": "[encoded data removed]",
      "text/plain": [
       "<Figure size 640x480 with 1 Axes>"
      ]
     },
     "metadata": {},
     "output_type": "display_data"
    }
   ],
   "source": [
    "import matplotlib.pyplot as plt\n",
    "\n",
    "# Create a sample DataFrame with an 'age' column\n",
    "data = attr_df['Age']\n",
    "df = pd.DataFrame(data)\n",
    "\n",
    "# Plot the distribution using a histogram\n",
    "df['Age'].hist()\n",
    "plt.title('Distribution of Ages')\n",
    "plt.xlabel('Age')\n",
    "plt.ylabel('Frequency')\n",
    "plt.show()"
   ]
  },
  {
   "cell_type": "code",
   "execution_count": 34,
   "id": "d2690016",
   "metadata": {},
   "outputs": [
    {
     "data": {
      "text/plain": [
       "<Axes: xlabel='Age', ylabel='Count'>"
      ]
     },
     "execution_count": 34,
     "metadata": {},
     "output_type": "execute_result"
    },
    {
     "data": {
      "image/png": "[encoded data removed]",
      "text/plain": [
       "<Figure size 640x480 with 1 Axes>"
      ]
     },
     "metadata": {},
     "output_type": "display_data"
    }
   ],
   "source": [
    "import seaborn as sns\n",
    "sns.histplot(df['Age'], kde=True)"
   ]
  },
  {
   "cell_type": "code",
   "execution_count": 38,
   "id": "7188417e",
   "metadata": {},
   "outputs": [
    {
     "data": {
      "image/png": "[encoded data removed]",
      "text/plain": [
       "<Figure size 640x480 with 1 Axes>"
      ]
     },
     "metadata": {},
     "output_type": "display_data"
    }
   ],
   "source": [
    "import matplotlib.pyplot as plt\n",
    "\n",
    "# After running sns.histplot(...)\n",
    "plt.xticks(ticks=range(0, int(df['Age'].max()), 10)) # Sets ticks every 10 units\n",
    "plt.show()"
   ]
  },
  {
   "cell_type": "code",
   "execution_count": 39,
   "id": "a922d63f",
   "metadata": {},
   "outputs": [
    {
     "data": {
      "image/png": "[encoded data removed]",
      "text/plain": [
       "<Figure size 640x480 with 1 Axes>"
      ]
     },
     "metadata": {},
     "output_type": "display_data"
    }
   ],
   "source": [
    "plt.xticks(rotation=45)\n",
    "plt.show()"
   ]
  },
  {
   "cell_type": "code",
   "execution_count": 42,
   "id": "9b561d28",
   "metadata": {},
   "outputs": [
    {
     "data": {
      "image/png": "[encoded data removed]",
      "text/plain": [
       "<Figure size 1000x600 with 1 Axes>"
      ]
     },
     "metadata": {},
     "output_type": "display_data"
    }
   ],
   "source": [
    "# Assume 'df' is your DataFrame\n",
    "plt.figure(figsize=(10, 6)) # Set a larger figure size\n",
    "\n",
    "# Plot with fewer, wider bins and a specific color\n",
    "sns.histplot(df['Age'], kde=True, bins=25, color='#4c72b0')\n",
    "\n",
    "# Improve X-axis by setting ticks every 10 years and rotating labels\n",
    "# You might need to adjust the range() based on your data's max age\n",
    "plt.xticks(ticks=range(0, int(df['Age'].max()) + 1, 10), rotation=45)\n",
    "\n",
    "# Add a title and axis labels (though you already have them, good practice to set explicitly)\n",
    "plt.title('Age Distribution and Kernel Density Estimate', fontsize=16)\n",
    "plt.xlabel('Age', fontsize=12)\n",
    "plt.ylabel('Count', fontsize=12)\n",
    "\n",
    "# Add horizontal gridlines for better count reading\n",
    "plt.grid(axis='y', linestyle='--', alpha=0.5)\n",
    "\n",
    "# Use tight_layout to ensure everything fits well\n",
    "plt.tight_layout()\n",
    "plt.show()"
   ]
  },
  {
   "cell_type": "code",
   "execution_count": 43,
   "id": "94327143",
   "metadata": {},
   "outputs": [
    {
     "ename": "TypeError",
     "evalue": "unsupported operand type(s) for -: 'str' and 'str'",
     "output_type": "error",
     "traceback": [
      "\u001b[1;31m---------------------------------------------------------------------------\u001b[0m",
      "\u001b[1;31mTypeError\u001b[0m                                 Traceback (most recent call last)",
      "Cell \u001b[1;32mIn[43], line 36\u001b[0m\n\u001b[0;32m     32\u001b[0m \u001b[38;5;66;03m# --- Example Usage ---\u001b[39;00m\n\u001b[0;32m     33\u001b[0m \n\u001b[0;32m     34\u001b[0m \u001b[38;5;66;03m# Example 1: A list with a clear outlier\u001b[39;00m\n\u001b[0;32m     35\u001b[0m sample_data \u001b[38;5;241m=\u001b[39m attr_df[\u001b[38;5;124m'\u001b[39m\u001b[38;5;124mAge\u001b[39m\u001b[38;5;124m'\u001b[39m]\n\u001b[1;32m---> 36\u001b[0m outliers_list \u001b[38;5;241m=\u001b[39m find_outliers_iqr(sample_data)\n\u001b[0;32m     37\u001b[0m \u001b[38;5;28mprint\u001b[39m(\u001b[38;5;124mf\u001b[39m\u001b[38;5;124m\"\u001b[39m\u001b[38;5;124mOriginal data: \u001b[39m\u001b[38;5;132;01m{\u001b[39;00msample_data\u001b[38;5;132;01m}\u001b[39;00m\u001b[38;5;124m\"\u001b[39m)\n\u001b[0;32m     38\u001b[0m \u001b[38;5;28mprint\u001b[39m(\u001b[38;5;124mf\u001b[39m\u001b[38;5;124m\"\u001b[39m\u001b[38;5;124mOutliers found (list): \u001b[39m\u001b[38;5;132;01m{\u001b[39;00moutliers_list\u001b[38;5;132;01m}\u001b[39;00m\u001b[38;5;130;01m\\n\u001b[39;00m\u001b[38;5;124m\"\u001b[39m)\n",
      "Cell \u001b[1;32mIn[43], line 16\u001b[0m, in \u001b[0;36mfind_outliers_iqr\u001b[1;34m(data)\u001b[0m\n\u001b[0;32m     13\u001b[0m     data \u001b[38;5;241m=\u001b[39m pd\u001b[38;5;241m.\u001b[39mSeries(data)\n\u001b[0;32m     15\u001b[0m \u001b[38;5;66;03m# Calculate the first quartile (Q1) and third quartile (Q3)\u001b[39;00m\n\u001b[1;32m---> 16\u001b[0m q1 \u001b[38;5;241m=\u001b[39m data\u001b[38;5;241m.\u001b[39mquantile(\u001b[38;5;241m0.25\u001b[39m)\n\u001b[0;32m     17\u001b[0m q3 \u001b[38;5;241m=\u001b[39m data\u001b[38;5;241m.\u001b[39mquantile(\u001b[38;5;241m0.75\u001b[39m)\n\u001b[0;32m     19\u001b[0m \u001b[38;5;66;03m# Calculate the Interquartile Range (IQR)\u001b[39;00m\n",
      "File \u001b[1;32mc:\\Users\\User\\anaconda3\\Lib\\site-packages\\pandas\\core\\series.py:2887\u001b[0m, in \u001b[0;36mSeries.quantile\u001b[1;34m(self, q, interpolation)\u001b[0m\n\u001b[0;32m   2883\u001b[0m \u001b[38;5;66;03m# We dispatch to DataFrame so that core.internals only has to worry\u001b[39;00m\n\u001b[0;32m   2884\u001b[0m \u001b[38;5;66;03m#  about 2D cases.\u001b[39;00m\n\u001b[0;32m   2885\u001b[0m df \u001b[38;5;241m=\u001b[39m \u001b[38;5;28mself\u001b[39m\u001b[38;5;241m.\u001b[39mto_frame()\n\u001b[1;32m-> 2887\u001b[0m result \u001b[38;5;241m=\u001b[39m df\u001b[38;5;241m.\u001b[39mquantile(q\u001b[38;5;241m=\u001b[39mq, interpolation\u001b[38;5;241m=\u001b[39minterpolation, numeric_only\u001b[38;5;241m=\u001b[39m\u001b[38;5;28;01mFalse\u001b[39;00m)\n\u001b[0;32m   2888\u001b[0m \u001b[38;5;28;01mif\u001b[39;00m result\u001b[38;5;241m.\u001b[39mndim \u001b[38;5;241m==\u001b[39m \u001b[38;5;241m2\u001b[39m:\n\u001b[0;32m   2889\u001b[0m     result \u001b[38;5;241m=\u001b[39m result\u001b[38;5;241m.\u001b[39miloc[:, \u001b[38;5;241m0\u001b[39m]\n",
      "File \u001b[1;32mc:\\Users\\User\\anaconda3\\Lib\\site-packages\\pandas\\core\\frame.py:12146\u001b[0m, in \u001b[0;36mDataFrame.quantile\u001b[1;34m(self, q, axis, numeric_only, interpolation, method)\u001b[0m\n\u001b[0;32m  12140\u001b[0m axis \u001b[38;5;241m=\u001b[39m \u001b[38;5;28mself\u001b[39m\u001b[38;5;241m.\u001b[39m_get_axis_number(axis)\n\u001b[0;32m  12142\u001b[0m \u001b[38;5;28;01mif\u001b[39;00m \u001b[38;5;129;01mnot\u001b[39;00m is_list_like(q):\n\u001b[0;32m  12143\u001b[0m     \u001b[38;5;66;03m# BlockManager.quantile expects listlike, so we wrap and unwrap here\u001b[39;00m\n\u001b[0;32m  12144\u001b[0m     \u001b[38;5;66;03m# error: List item 0 has incompatible type \"float | ExtensionArray |\u001b[39;00m\n\u001b[0;32m  12145\u001b[0m     \u001b[38;5;66;03m# ndarray[Any, Any] | Index | Series | Sequence[float]\"; expected \"float\"\u001b[39;00m\n\u001b[1;32m> 12146\u001b[0m     res_df \u001b[38;5;241m=\u001b[39m \u001b[38;5;28mself\u001b[39m\u001b[38;5;241m.\u001b[39mquantile(\n\u001b[0;32m  12147\u001b[0m         [q],  \u001b[38;5;66;03m# type: ignore[list-item]\u001b[39;00m\n\u001b[0;32m  12148\u001b[0m         axis\u001b[38;5;241m=\u001b[39maxis,\n\u001b[0;32m  12149\u001b[0m         numeric_only\u001b[38;5;241m=\u001b[39mnumeric_only,\n\u001b[0;32m  12150\u001b[0m         interpolation\u001b[38;5;241m=\u001b[39minterpolation,\n\u001b[0;32m  12151\u001b[0m         method\u001b[38;5;241m=\u001b[39mmethod,\n\u001b[0;32m  12152\u001b[0m     )\n\u001b[0;32m  12153\u001b[0m     \u001b[38;5;28;01mif\u001b[39;00m method \u001b[38;5;241m==\u001b[39m \u001b[38;5;124m\"\u001b[39m\u001b[38;5;124msingle\u001b[39m\u001b[38;5;124m\"\u001b[39m:\n\u001b[0;32m  12154\u001b[0m         res \u001b[38;5;241m=\u001b[39m res_df\u001b[38;5;241m.\u001b[39miloc[\u001b[38;5;241m0\u001b[39m]\n",
      "File \u001b[1;32mc:\\Users\\User\\anaconda3\\Lib\\site-packages\\pandas\\core\\frame.py:12191\u001b[0m, in \u001b[0;36mDataFrame.quantile\u001b[1;34m(self, q, axis, numeric_only, interpolation, method)\u001b[0m\n\u001b[0;32m  12187\u001b[0m     \u001b[38;5;28;01mraise\u001b[39;00m \u001b[38;5;167;01mValueError\u001b[39;00m(\n\u001b[0;32m  12188\u001b[0m         \u001b[38;5;124mf\u001b[39m\u001b[38;5;124m\"\u001b[39m\u001b[38;5;124mInvalid method: \u001b[39m\u001b[38;5;132;01m{\u001b[39;00mmethod\u001b[38;5;132;01m}\u001b[39;00m\u001b[38;5;124m. Method must be in \u001b[39m\u001b[38;5;132;01m{\u001b[39;00mvalid_method\u001b[38;5;132;01m}\u001b[39;00m\u001b[38;5;124m.\u001b[39m\u001b[38;5;124m\"\u001b[39m\n\u001b[0;32m  12189\u001b[0m     )\n\u001b[0;32m  12190\u001b[0m \u001b[38;5;28;01mif\u001b[39;00m method \u001b[38;5;241m==\u001b[39m \u001b[38;5;124m\"\u001b[39m\u001b[38;5;124msingle\u001b[39m\u001b[38;5;124m\"\u001b[39m:\n\u001b[1;32m> 12191\u001b[0m     res \u001b[38;5;241m=\u001b[39m data\u001b[38;5;241m.\u001b[39m_mgr\u001b[38;5;241m.\u001b[39mquantile(qs\u001b[38;5;241m=\u001b[39mq, interpolation\u001b[38;5;241m=\u001b[39minterpolation)\n\u001b[0;32m  12192\u001b[0m \u001b[38;5;28;01melif\u001b[39;00m method \u001b[38;5;241m==\u001b[39m \u001b[38;5;124m\"\u001b[39m\u001b[38;5;124mtable\u001b[39m\u001b[38;5;124m\"\u001b[39m:\n\u001b[0;32m  12193\u001b[0m     valid_interpolation \u001b[38;5;241m=\u001b[39m {\u001b[38;5;124m\"\u001b[39m\u001b[38;5;124mnearest\u001b[39m\u001b[38;5;124m\"\u001b[39m, \u001b[38;5;124m\"\u001b[39m\u001b[38;5;124mlower\u001b[39m\u001b[38;5;124m\"\u001b[39m, \u001b[38;5;124m\"\u001b[39m\u001b[38;5;124mhigher\u001b[39m\u001b[38;5;124m\"\u001b[39m}\n",
      "File \u001b[1;32mc:\\Users\\User\\anaconda3\\Lib\\site-packages\\pandas\\core\\internals\\managers.py:1549\u001b[0m, in \u001b[0;36mBlockManager.quantile\u001b[1;34m(self, qs, interpolation)\u001b[0m\n\u001b[0;32m   1545\u001b[0m new_axes \u001b[38;5;241m=\u001b[39m \u001b[38;5;28mlist\u001b[39m(\u001b[38;5;28mself\u001b[39m\u001b[38;5;241m.\u001b[39maxes)\n\u001b[0;32m   1546\u001b[0m new_axes[\u001b[38;5;241m1\u001b[39m] \u001b[38;5;241m=\u001b[39m Index(qs, dtype\u001b[38;5;241m=\u001b[39mnp\u001b[38;5;241m.\u001b[39mfloat64)\n\u001b[0;32m   1548\u001b[0m blocks \u001b[38;5;241m=\u001b[39m [\n\u001b[1;32m-> 1549\u001b[0m     blk\u001b[38;5;241m.\u001b[39mquantile(qs\u001b[38;5;241m=\u001b[39mqs, interpolation\u001b[38;5;241m=\u001b[39minterpolation) \u001b[38;5;28;01mfor\u001b[39;00m blk \u001b[38;5;129;01min\u001b[39;00m \u001b[38;5;28mself\u001b[39m\u001b[38;5;241m.\u001b[39mblocks\n\u001b[0;32m   1550\u001b[0m ]\n\u001b[0;32m   1552\u001b[0m \u001b[38;5;28;01mreturn\u001b[39;00m \u001b[38;5;28mtype\u001b[39m(\u001b[38;5;28mself\u001b[39m)(blocks, new_axes)\n",
      "File \u001b[1;32mc:\\Users\\User\\anaconda3\\Lib\\site-packages\\pandas\\core\\internals\\blocks.py:1891\u001b[0m, in \u001b[0;36mBlock.quantile\u001b[1;34m(self, qs, interpolation)\u001b[0m\n\u001b[0;32m   1888\u001b[0m \u001b[38;5;28;01massert\u001b[39;00m \u001b[38;5;28mself\u001b[39m\u001b[38;5;241m.\u001b[39mndim \u001b[38;5;241m==\u001b[39m \u001b[38;5;241m2\u001b[39m\n\u001b[0;32m   1889\u001b[0m \u001b[38;5;28;01massert\u001b[39;00m is_list_like(qs)  \u001b[38;5;66;03m# caller is responsible for this\u001b[39;00m\n\u001b[1;32m-> 1891\u001b[0m result \u001b[38;5;241m=\u001b[39m quantile_compat(\u001b[38;5;28mself\u001b[39m\u001b[38;5;241m.\u001b[39mvalues, np\u001b[38;5;241m.\u001b[39masarray(qs\u001b[38;5;241m.\u001b[39m_values), interpolation)\n\u001b[0;32m   1892\u001b[0m \u001b[38;5;66;03m# ensure_block_shape needed for cases where we start with EA and result\u001b[39;00m\n\u001b[0;32m   1893\u001b[0m \u001b[38;5;66;03m#  is ndarray, e.g. IntegerArray, SparseArray\u001b[39;00m\n\u001b[0;32m   1894\u001b[0m result \u001b[38;5;241m=\u001b[39m ensure_block_shape(result, ndim\u001b[38;5;241m=\u001b[39m\u001b[38;5;241m2\u001b[39m)\n",
      "File \u001b[1;32mc:\\Users\\User\\anaconda3\\Lib\\site-packages\\pandas\\core\\array_algos\\quantile.py:39\u001b[0m, in \u001b[0;36mquantile_compat\u001b[1;34m(values, qs, interpolation)\u001b[0m\n\u001b[0;32m     37\u001b[0m     fill_value \u001b[38;5;241m=\u001b[39m na_value_for_dtype(values\u001b[38;5;241m.\u001b[39mdtype, compat\u001b[38;5;241m=\u001b[39m\u001b[38;5;28;01mFalse\u001b[39;00m)\n\u001b[0;32m     38\u001b[0m     mask \u001b[38;5;241m=\u001b[39m isna(values)\n\u001b[1;32m---> 39\u001b[0m     \u001b[38;5;28;01mreturn\u001b[39;00m quantile_with_mask(values, mask, fill_value, qs, interpolation)\n\u001b[0;32m     40\u001b[0m \u001b[38;5;28;01melse\u001b[39;00m:\n\u001b[0;32m     41\u001b[0m     \u001b[38;5;28;01mreturn\u001b[39;00m values\u001b[38;5;241m.\u001b[39m_quantile(qs, interpolation)\n",
      "File \u001b[1;32mc:\\Users\\User\\anaconda3\\Lib\\site-packages\\pandas\\core\\array_algos\\quantile.py:97\u001b[0m, in \u001b[0;36mquantile_with_mask\u001b[1;34m(values, mask, fill_value, qs, interpolation)\u001b[0m\n\u001b[0;32m     95\u001b[0m     result \u001b[38;5;241m=\u001b[39m np\u001b[38;5;241m.\u001b[39mrepeat(flat, \u001b[38;5;28mlen\u001b[39m(values))\u001b[38;5;241m.\u001b[39mreshape(\u001b[38;5;28mlen\u001b[39m(values), \u001b[38;5;28mlen\u001b[39m(qs))\n\u001b[0;32m     96\u001b[0m \u001b[38;5;28;01melse\u001b[39;00m:\n\u001b[1;32m---> 97\u001b[0m     result \u001b[38;5;241m=\u001b[39m _nanpercentile(\n\u001b[0;32m     98\u001b[0m         values,\n\u001b[0;32m     99\u001b[0m         qs \u001b[38;5;241m*\u001b[39m \u001b[38;5;241m100.0\u001b[39m,\n\u001b[0;32m    100\u001b[0m         na_value\u001b[38;5;241m=\u001b[39mfill_value,\n\u001b[0;32m    101\u001b[0m         mask\u001b[38;5;241m=\u001b[39mmask,\n\u001b[0;32m    102\u001b[0m         interpolation\u001b[38;5;241m=\u001b[39minterpolation,\n\u001b[0;32m    103\u001b[0m     )\n\u001b[0;32m    105\u001b[0m     result \u001b[38;5;241m=\u001b[39m np\u001b[38;5;241m.\u001b[39masarray(result)\n\u001b[0;32m    106\u001b[0m     result \u001b[38;5;241m=\u001b[39m result\u001b[38;5;241m.\u001b[39mT\n",
      "File \u001b[1;32mc:\\Users\\User\\anaconda3\\Lib\\site-packages\\pandas\\core\\array_algos\\quantile.py:218\u001b[0m, in \u001b[0;36m_nanpercentile\u001b[1;34m(values, qs, na_value, mask, interpolation)\u001b[0m\n\u001b[0;32m    216\u001b[0m     \u001b[38;5;28;01mreturn\u001b[39;00m result\n\u001b[0;32m    217\u001b[0m \u001b[38;5;28;01melse\u001b[39;00m:\n\u001b[1;32m--> 218\u001b[0m     \u001b[38;5;28;01mreturn\u001b[39;00m np\u001b[38;5;241m.\u001b[39mpercentile(\n\u001b[0;32m    219\u001b[0m         values,\n\u001b[0;32m    220\u001b[0m         qs,\n\u001b[0;32m    221\u001b[0m         axis\u001b[38;5;241m=\u001b[39m\u001b[38;5;241m1\u001b[39m,\n\u001b[0;32m    222\u001b[0m         \u001b[38;5;66;03m# error: No overload variant of \"percentile\" matches argument types\u001b[39;00m\n\u001b[0;32m    223\u001b[0m         \u001b[38;5;66;03m# \"ndarray[Any, Any]\", \"ndarray[Any, dtype[floating[_64Bit]]]\",\u001b[39;00m\n\u001b[0;32m    224\u001b[0m         \u001b[38;5;66;03m# \"int\", \"Dict[str, str]\"  [call-overload]\u001b[39;00m\n\u001b[0;32m    225\u001b[0m         method\u001b[38;5;241m=\u001b[39minterpolation,  \u001b[38;5;66;03m# type: ignore[call-overload]\u001b[39;00m\n\u001b[0;32m    226\u001b[0m     )\n",
      "File \u001b[1;32mc:\\Users\\User\\anaconda3\\Lib\\site-packages\\numpy\\lib\\function_base.py:4283\u001b[0m, in \u001b[0;36mpercentile\u001b[1;34m(a, q, axis, out, overwrite_input, method, keepdims, interpolation)\u001b[0m\n\u001b[0;32m   4281\u001b[0m \u001b[38;5;28;01mif\u001b[39;00m \u001b[38;5;129;01mnot\u001b[39;00m _quantile_is_valid(q):\n\u001b[0;32m   4282\u001b[0m     \u001b[38;5;28;01mraise\u001b[39;00m \u001b[38;5;167;01mValueError\u001b[39;00m(\u001b[38;5;124m\"\u001b[39m\u001b[38;5;124mPercentiles must be in the range [0, 100]\u001b[39m\u001b[38;5;124m\"\u001b[39m)\n\u001b[1;32m-> 4283\u001b[0m \u001b[38;5;28;01mreturn\u001b[39;00m _quantile_unchecked(\n\u001b[0;32m   4284\u001b[0m     a, q, axis, out, overwrite_input, method, keepdims)\n",
      "File \u001b[1;32mc:\\Users\\User\\anaconda3\\Lib\\site-packages\\numpy\\lib\\function_base.py:4555\u001b[0m, in \u001b[0;36m_quantile_unchecked\u001b[1;34m(a, q, axis, out, overwrite_input, method, keepdims)\u001b[0m\n\u001b[0;32m   4547\u001b[0m \u001b[38;5;28;01mdef\u001b[39;00m \u001b[38;5;21m_quantile_unchecked\u001b[39m(a,\n\u001b[0;32m   4548\u001b[0m                         q,\n\u001b[0;32m   4549\u001b[0m                         axis\u001b[38;5;241m=\u001b[39m\u001b[38;5;28;01mNone\u001b[39;00m,\n\u001b[1;32m   (...)\u001b[0m\n\u001b[0;32m   4552\u001b[0m                         method\u001b[38;5;241m=\u001b[39m\u001b[38;5;124m\"\u001b[39m\u001b[38;5;124mlinear\u001b[39m\u001b[38;5;124m\"\u001b[39m,\n\u001b[0;32m   4553\u001b[0m                         keepdims\u001b[38;5;241m=\u001b[39m\u001b[38;5;28;01mFalse\u001b[39;00m):\n\u001b[0;32m   4554\u001b[0m \u001b[38;5;250m    \u001b[39m\u001b[38;5;124;03m\"\"\"Assumes that q is in [0, 1], and is an ndarray\"\"\"\u001b[39;00m\n\u001b[1;32m-> 4555\u001b[0m     \u001b[38;5;28;01mreturn\u001b[39;00m _ureduce(a,\n\u001b[0;32m   4556\u001b[0m                     func\u001b[38;5;241m=\u001b[39m_quantile_ureduce_func,\n\u001b[0;32m   4557\u001b[0m                     q\u001b[38;5;241m=\u001b[39mq,\n\u001b[0;32m   4558\u001b[0m                     keepdims\u001b[38;5;241m=\u001b[39mkeepdims,\n\u001b[0;32m   4559\u001b[0m                     axis\u001b[38;5;241m=\u001b[39maxis,\n\u001b[0;32m   4560\u001b[0m                     out\u001b[38;5;241m=\u001b[39mout,\n\u001b[0;32m   4561\u001b[0m                     overwrite_input\u001b[38;5;241m=\u001b[39moverwrite_input,\n\u001b[0;32m   4562\u001b[0m                     method\u001b[38;5;241m=\u001b[39mmethod)\n",
      "File \u001b[1;32mc:\\Users\\User\\anaconda3\\Lib\\site-packages\\numpy\\lib\\function_base.py:3823\u001b[0m, in \u001b[0;36m_ureduce\u001b[1;34m(a, func, keepdims, **kwargs)\u001b[0m\n\u001b[0;32m   3820\u001b[0m             index_out \u001b[38;5;241m=\u001b[39m (\u001b[38;5;241m0\u001b[39m, ) \u001b[38;5;241m*\u001b[39m nd\n\u001b[0;32m   3821\u001b[0m             kwargs[\u001b[38;5;124m'\u001b[39m\u001b[38;5;124mout\u001b[39m\u001b[38;5;124m'\u001b[39m] \u001b[38;5;241m=\u001b[39m out[(\u001b[38;5;28mEllipsis\u001b[39m, ) \u001b[38;5;241m+\u001b[39m index_out]\n\u001b[1;32m-> 3823\u001b[0m r \u001b[38;5;241m=\u001b[39m func(a, \u001b[38;5;241m*\u001b[39m\u001b[38;5;241m*\u001b[39mkwargs)\n\u001b[0;32m   3825\u001b[0m \u001b[38;5;28;01mif\u001b[39;00m out \u001b[38;5;129;01mis\u001b[39;00m \u001b[38;5;129;01mnot\u001b[39;00m \u001b[38;5;28;01mNone\u001b[39;00m:\n\u001b[0;32m   3826\u001b[0m     \u001b[38;5;28;01mreturn\u001b[39;00m out\n",
      "File \u001b[1;32mc:\\Users\\User\\anaconda3\\Lib\\site-packages\\numpy\\lib\\function_base.py:4722\u001b[0m, in \u001b[0;36m_quantile_ureduce_func\u001b[1;34m(a, q, axis, out, overwrite_input, method)\u001b[0m\n\u001b[0;32m   4720\u001b[0m     \u001b[38;5;28;01melse\u001b[39;00m:\n\u001b[0;32m   4721\u001b[0m         arr \u001b[38;5;241m=\u001b[39m a\u001b[38;5;241m.\u001b[39mcopy()\n\u001b[1;32m-> 4722\u001b[0m result \u001b[38;5;241m=\u001b[39m _quantile(arr,\n\u001b[0;32m   4723\u001b[0m                    quantiles\u001b[38;5;241m=\u001b[39mq,\n\u001b[0;32m   4724\u001b[0m                    axis\u001b[38;5;241m=\u001b[39maxis,\n\u001b[0;32m   4725\u001b[0m                    method\u001b[38;5;241m=\u001b[39mmethod,\n\u001b[0;32m   4726\u001b[0m                    out\u001b[38;5;241m=\u001b[39mout)\n\u001b[0;32m   4727\u001b[0m \u001b[38;5;28;01mreturn\u001b[39;00m result\n",
      "File \u001b[1;32mc:\\Users\\User\\anaconda3\\Lib\\site-packages\\numpy\\lib\\function_base.py:4841\u001b[0m, in \u001b[0;36m_quantile\u001b[1;34m(arr, quantiles, axis, method, out)\u001b[0m\n\u001b[0;32m   4839\u001b[0m     result_shape \u001b[38;5;241m=\u001b[39m virtual_indexes\u001b[38;5;241m.\u001b[39mshape \u001b[38;5;241m+\u001b[39m (\u001b[38;5;241m1\u001b[39m,) \u001b[38;5;241m*\u001b[39m (arr\u001b[38;5;241m.\u001b[39mndim \u001b[38;5;241m-\u001b[39m \u001b[38;5;241m1\u001b[39m)\n\u001b[0;32m   4840\u001b[0m     gamma \u001b[38;5;241m=\u001b[39m gamma\u001b[38;5;241m.\u001b[39mreshape(result_shape)\n\u001b[1;32m-> 4841\u001b[0m     result \u001b[38;5;241m=\u001b[39m _lerp(previous,\n\u001b[0;32m   4842\u001b[0m                    \u001b[38;5;28mnext\u001b[39m,\n\u001b[0;32m   4843\u001b[0m                    gamma,\n\u001b[0;32m   4844\u001b[0m                    out\u001b[38;5;241m=\u001b[39mout)\n\u001b[0;32m   4845\u001b[0m \u001b[38;5;28;01mif\u001b[39;00m np\u001b[38;5;241m.\u001b[39many(slices_having_nans):\n\u001b[0;32m   4846\u001b[0m     \u001b[38;5;28;01mif\u001b[39;00m result\u001b[38;5;241m.\u001b[39mndim \u001b[38;5;241m==\u001b[39m \u001b[38;5;241m0\u001b[39m \u001b[38;5;129;01mand\u001b[39;00m out \u001b[38;5;129;01mis\u001b[39;00m \u001b[38;5;28;01mNone\u001b[39;00m:\n\u001b[0;32m   4847\u001b[0m         \u001b[38;5;66;03m# can't write to a scalar, but indexing will be correct\u001b[39;00m\n",
      "File \u001b[1;32mc:\\Users\\User\\anaconda3\\Lib\\site-packages\\numpy\\lib\\function_base.py:4655\u001b[0m, in \u001b[0;36m_lerp\u001b[1;34m(a, b, t, out)\u001b[0m\n\u001b[0;32m   4641\u001b[0m \u001b[38;5;28;01mdef\u001b[39;00m \u001b[38;5;21m_lerp\u001b[39m(a, b, t, out\u001b[38;5;241m=\u001b[39m\u001b[38;5;28;01mNone\u001b[39;00m):\n\u001b[0;32m   4642\u001b[0m \u001b[38;5;250m    \u001b[39m\u001b[38;5;124;03m\"\"\"\u001b[39;00m\n\u001b[0;32m   4643\u001b[0m \u001b[38;5;124;03m    Compute the linear interpolation weighted by gamma on each point of\u001b[39;00m\n\u001b[0;32m   4644\u001b[0m \u001b[38;5;124;03m    two same shape array.\u001b[39;00m\n\u001b[1;32m   (...)\u001b[0m\n\u001b[0;32m   4653\u001b[0m \u001b[38;5;124;03m        Output array.\u001b[39;00m\n\u001b[0;32m   4654\u001b[0m \u001b[38;5;124;03m    \"\"\"\u001b[39;00m\n\u001b[1;32m-> 4655\u001b[0m     diff_b_a \u001b[38;5;241m=\u001b[39m subtract(b, a)\n\u001b[0;32m   4656\u001b[0m     \u001b[38;5;66;03m# asanyarray is a stop-gap until gh-13105\u001b[39;00m\n\u001b[0;32m   4657\u001b[0m     lerp_interpolation \u001b[38;5;241m=\u001b[39m asanyarray(add(a, diff_b_a \u001b[38;5;241m*\u001b[39m t, out\u001b[38;5;241m=\u001b[39mout))\n",
      "\u001b[1;31mTypeError\u001b[0m: unsupported operand type(s) for -: 'str' and 'str'"
     ]
    }
   ],
   "source": [
    "def find_outliers_iqr(data):\n",
    "    \"\"\"\n",
    "    Finds outliers in a 1D array or pandas Series using the Interquartile Range (IQR) method.\n",
    "\n",
    "    Args:\n",
    "        data (array-like): A list, NumPy array, or pandas Series of numerical data.\n",
    "\n",
    "    Returns:\n",
    "        list: A list of values identified as outliers.\n",
    "    \"\"\"\n",
    "    # Convert data to a pandas Series to easily use its quantile method\n",
    "    if not isinstance(data, pd.Series):\n",
    "        data = pd.Series(data)\n",
    "\n",
    "    # Calculate the first quartile (Q1) and third quartile (Q3)\n",
    "    q1 = data.quantile(0.25)\n",
    "    q3 = data.quantile(0.75)\n",
    "\n",
    "    # Calculate the Interquartile Range (IQR)\n",
    "    iqr = q3 - q1\n",
    "\n",
    "    # Define the upper and lower bounds for outliers\n",
    "    # The standard 'k' value is 1.5, which is a common choice.\n",
    "    lower_bound = q1 - 1.5 * iqr\n",
    "    upper_bound = q3 + 1.5 * iqr\n",
    "\n",
    "    # Find the values that are outside the bounds\n",
    "    outliers = data[(data < lower_bound) | (data > upper_bound)]\n",
    "\n",
    "    return outliers.tolist()\n",
    "\n",
    "# --- Example Usage ---\n",
    "\n",
    "# Example 1: A list with a clear outlier\n",
    "sample_data = attr_df['Age']\n",
    "outliers_list = find_outliers_iqr(sample_data)\n",
    "print(f\"Original data: {sample_data}\")\n",
    "print(f\"Outliers found (list): {outliers_list}\\n\")\n",
    "\n",
    "# Example 2: A pandas Series with multiple outliers\n",
    "np.random.seed(0)\n",
    "series_data = pd.Series(np.random.normal(loc=10, scale=3, size=100))\n",
    "# Manually add some outliers\n",
    "series_data.iloc[10] = 50\n",
    "series_data.iloc[25] = -10\n",
    "series_data.iloc[50] = 60\n",
    "\n",
    "outliers_series = find_outliers_iqr(series_data)\n",
    "print(f\"Outliers found (pandas Series): {outliers_series}\")\n"
   ]
  },
  {
   "cell_type": "code",
   "execution_count": 37,
   "id": "137535aa",
   "metadata": {},
   "outputs": [
    {
     "ename": "TypeError",
     "evalue": "'<' not supported between instances of 'int' and 'str'",
     "output_type": "error",
     "traceback": [
      "\u001b[1;31m---------------------------------------------------------------------------\u001b[0m",
      "\u001b[1;31mTypeError\u001b[0m                                 Traceback (most recent call last)",
      "Cell \u001b[1;32mIn[37], line 6\u001b[0m\n\u001b[0;32m      2\u001b[0m bin_labels \u001b[38;5;241m=\u001b[39m [\u001b[38;5;124mf\u001b[39m\u001b[38;5;124m'\u001b[39m\u001b[38;5;132;01m{\u001b[39;00mi\u001b[38;5;132;01m}\u001b[39;00m\u001b[38;5;124m-\u001b[39m\u001b[38;5;132;01m{\u001b[39;00mi\u001b[38;5;241m+\u001b[39m\u001b[38;5;241m9\u001b[39m\u001b[38;5;132;01m}\u001b[39;00m\u001b[38;5;124m'\u001b[39m \u001b[38;5;28;01mfor\u001b[39;00m i \u001b[38;5;129;01min\u001b[39;00m \u001b[38;5;28mrange\u001b[39m(\u001b[38;5;241m0\u001b[39m, \u001b[38;5;241m120\u001b[39m, \u001b[38;5;241m10\u001b[39m)]\n\u001b[0;32m      4\u001b[0m \u001b[38;5;66;03m# Use pd.cut to create a new column with the binned age group for each person.\u001b[39;00m\n\u001b[0;32m      5\u001b[0m \u001b[38;5;66;03m# Any ages outside the defined bins will result in a NaN value.\u001b[39;00m\n\u001b[1;32m----> 6\u001b[0m df[\u001b[38;5;124m'\u001b[39m\u001b[38;5;124mage_group\u001b[39m\u001b[38;5;124m'\u001b[39m] \u001b[38;5;241m=\u001b[39m pd\u001b[38;5;241m.\u001b[39mcut(df[\u001b[38;5;124m'\u001b[39m\u001b[38;5;124mAge\u001b[39m\u001b[38;5;124m'\u001b[39m], bins\u001b[38;5;241m=\u001b[39mbin_edges, labels\u001b[38;5;241m=\u001b[39mbin_labels, right\u001b[38;5;241m=\u001b[39m\u001b[38;5;28;01mFalse\u001b[39;00m)\n\u001b[0;32m      8\u001b[0m \u001b[38;5;66;03m# Fill any NaN values (ages < 0 or >= 120) with 'Others'.\u001b[39;00m\n\u001b[0;32m      9\u001b[0m df[\u001b[38;5;124m'\u001b[39m\u001b[38;5;124mage_group\u001b[39m\u001b[38;5;124m'\u001b[39m] \u001b[38;5;241m=\u001b[39m df[\u001b[38;5;124m'\u001b[39m\u001b[38;5;124mage_group\u001b[39m\u001b[38;5;124m'\u001b[39m]\u001b[38;5;241m.\u001b[39mcat\u001b[38;5;241m.\u001b[39madd_categories(\u001b[38;5;124m'\u001b[39m\u001b[38;5;124mOthers\u001b[39m\u001b[38;5;124m'\u001b[39m)\u001b[38;5;241m.\u001b[39mfillna(\u001b[38;5;124m'\u001b[39m\u001b[38;5;124mOthers\u001b[39m\u001b[38;5;124m'\u001b[39m)\n",
      "File \u001b[1;32mc:\\Users\\User\\anaconda3\\Lib\\site-packages\\pandas\\core\\reshape\\tile.py:257\u001b[0m, in \u001b[0;36mcut\u001b[1;34m(x, bins, right, labels, retbins, precision, include_lowest, duplicates, ordered)\u001b[0m\n\u001b[0;32m    254\u001b[0m     \u001b[38;5;28;01mif\u001b[39;00m \u001b[38;5;129;01mnot\u001b[39;00m bins\u001b[38;5;241m.\u001b[39mis_monotonic_increasing:\n\u001b[0;32m    255\u001b[0m         \u001b[38;5;28;01mraise\u001b[39;00m \u001b[38;5;167;01mValueError\u001b[39;00m(\u001b[38;5;124m\"\u001b[39m\u001b[38;5;124mbins must increase monotonically.\u001b[39m\u001b[38;5;124m\"\u001b[39m)\n\u001b[1;32m--> 257\u001b[0m fac, bins \u001b[38;5;241m=\u001b[39m _bins_to_cuts(\n\u001b[0;32m    258\u001b[0m     x_idx,\n\u001b[0;32m    259\u001b[0m     bins,\n\u001b[0;32m    260\u001b[0m     right\u001b[38;5;241m=\u001b[39mright,\n\u001b[0;32m    261\u001b[0m     labels\u001b[38;5;241m=\u001b[39mlabels,\n\u001b[0;32m    262\u001b[0m     precision\u001b[38;5;241m=\u001b[39mprecision,\n\u001b[0;32m    263\u001b[0m     include_lowest\u001b[38;5;241m=\u001b[39minclude_lowest,\n\u001b[0;32m    264\u001b[0m     duplicates\u001b[38;5;241m=\u001b[39mduplicates,\n\u001b[0;32m    265\u001b[0m     ordered\u001b[38;5;241m=\u001b[39mordered,\n\u001b[0;32m    266\u001b[0m )\n\u001b[0;32m    268\u001b[0m \u001b[38;5;28;01mreturn\u001b[39;00m _postprocess_for_cut(fac, bins, retbins, original)\n",
      "File \u001b[1;32mc:\\Users\\User\\anaconda3\\Lib\\site-packages\\pandas\\core\\reshape\\tile.py:452\u001b[0m, in \u001b[0;36m_bins_to_cuts\u001b[1;34m(x_idx, bins, right, labels, precision, include_lowest, duplicates, ordered)\u001b[0m\n\u001b[0;32m    449\u001b[0m side: Literal[\u001b[38;5;124m\"\u001b[39m\u001b[38;5;124mleft\u001b[39m\u001b[38;5;124m\"\u001b[39m, \u001b[38;5;124m\"\u001b[39m\u001b[38;5;124mright\u001b[39m\u001b[38;5;124m\"\u001b[39m] \u001b[38;5;241m=\u001b[39m \u001b[38;5;124m\"\u001b[39m\u001b[38;5;124mleft\u001b[39m\u001b[38;5;124m\"\u001b[39m \u001b[38;5;28;01mif\u001b[39;00m right \u001b[38;5;28;01melse\u001b[39;00m \u001b[38;5;124m\"\u001b[39m\u001b[38;5;124mright\u001b[39m\u001b[38;5;124m\"\u001b[39m\n\u001b[0;32m    451\u001b[0m \u001b[38;5;28;01mtry\u001b[39;00m:\n\u001b[1;32m--> 452\u001b[0m     ids \u001b[38;5;241m=\u001b[39m bins\u001b[38;5;241m.\u001b[39msearchsorted(x_idx, side\u001b[38;5;241m=\u001b[39mside)\n\u001b[0;32m    453\u001b[0m \u001b[38;5;28;01mexcept\u001b[39;00m \u001b[38;5;167;01mTypeError\u001b[39;00m \u001b[38;5;28;01mas\u001b[39;00m err:\n\u001b[0;32m    454\u001b[0m     \u001b[38;5;66;03m# e.g. test_datetime_nan_error if bins are DatetimeArray and x_idx\u001b[39;00m\n\u001b[0;32m    455\u001b[0m     \u001b[38;5;66;03m#  is integers\u001b[39;00m\n\u001b[0;32m    456\u001b[0m     \u001b[38;5;28;01mif\u001b[39;00m x_idx\u001b[38;5;241m.\u001b[39mdtype\u001b[38;5;241m.\u001b[39mkind \u001b[38;5;241m==\u001b[39m \u001b[38;5;124m\"\u001b[39m\u001b[38;5;124mm\u001b[39m\u001b[38;5;124m\"\u001b[39m:\n",
      "File \u001b[1;32mc:\\Users\\User\\anaconda3\\Lib\\site-packages\\pandas\\core\\base.py:1352\u001b[0m, in \u001b[0;36mIndexOpsMixin.searchsorted\u001b[1;34m(self, value, side, sorter)\u001b[0m\n\u001b[0;32m   1348\u001b[0m \u001b[38;5;28;01mif\u001b[39;00m \u001b[38;5;129;01mnot\u001b[39;00m \u001b[38;5;28misinstance\u001b[39m(values, np\u001b[38;5;241m.\u001b[39mndarray):\n\u001b[0;32m   1349\u001b[0m     \u001b[38;5;66;03m# Going through EA.searchsorted directly improves performance GH#38083\u001b[39;00m\n\u001b[0;32m   1350\u001b[0m     \u001b[38;5;28;01mreturn\u001b[39;00m values\u001b[38;5;241m.\u001b[39msearchsorted(value, side\u001b[38;5;241m=\u001b[39mside, sorter\u001b[38;5;241m=\u001b[39msorter)\n\u001b[1;32m-> 1352\u001b[0m \u001b[38;5;28;01mreturn\u001b[39;00m algorithms\u001b[38;5;241m.\u001b[39msearchsorted(\n\u001b[0;32m   1353\u001b[0m     values,\n\u001b[0;32m   1354\u001b[0m     value,\n\u001b[0;32m   1355\u001b[0m     side\u001b[38;5;241m=\u001b[39mside,\n\u001b[0;32m   1356\u001b[0m     sorter\u001b[38;5;241m=\u001b[39msorter,\n\u001b[0;32m   1357\u001b[0m )\n",
      "File \u001b[1;32mc:\\Users\\User\\anaconda3\\Lib\\site-packages\\pandas\\core\\algorithms.py:1329\u001b[0m, in \u001b[0;36msearchsorted\u001b[1;34m(arr, value, side, sorter)\u001b[0m\n\u001b[0;32m   1325\u001b[0m     arr \u001b[38;5;241m=\u001b[39m ensure_wrapped_if_datetimelike(arr)\n\u001b[0;32m   1327\u001b[0m \u001b[38;5;66;03m# Argument 1 to \"searchsorted\" of \"ndarray\" has incompatible type\u001b[39;00m\n\u001b[0;32m   1328\u001b[0m \u001b[38;5;66;03m# \"Union[NumpyValueArrayLike, ExtensionArray]\"; expected \"NumpyValueArrayLike\"\u001b[39;00m\n\u001b[1;32m-> 1329\u001b[0m \u001b[38;5;28;01mreturn\u001b[39;00m arr\u001b[38;5;241m.\u001b[39msearchsorted(value, side\u001b[38;5;241m=\u001b[39mside, sorter\u001b[38;5;241m=\u001b[39msorter)\n",
      "\u001b[1;31mTypeError\u001b[0m: '<' not supported between instances of 'int' and 'str'"
     ]
    }
   ],
   "source": [
    "bin_edges = list(range(0, 130, 10))\n",
    "bin_labels = [f'{i}-{i+9}' for i in range(0, 120, 10)]\n",
    "\n",
    "# Use pd.cut to create a new column with the binned age group for each person.\n",
    "# Any ages outside the defined bins will result in a NaN value.\n",
    "df['age_group'] = pd.cut(df['Age'], bins=bin_edges, labels=bin_labels, right=False)\n",
    "\n",
    "# Fill any NaN values (ages < 0 or >= 120) with 'Others'.\n",
    "df['age_group'] = df['age_group'].cat.add_categories('Others').fillna('Others')\n",
    "\n",
    "# Count the number of people in each age group.\n",
    "age_group_counts = df['age_group'].value_counts()\n",
    "\n",
    "# Manually define the correct order for the labels, including 'Others'.\n",
    "# This prevents the TypeError during sorting.\n",
    "ordered_labels = bin_labels + ['Others']\n",
    "\n",
    "# Reindex the Series to ensure the labels are in the desired order for plotting.\n",
    "age_group_counts = age_group_counts.reindex(ordered_labels)\n",
    "\n",
    "# Plot the distribution using a bar chart.\n",
    "plt.figure(figsize=(10, 6))\n",
    "age_group_counts.plot(kind='bar', edgecolor='black')\n",
    "\n",
    "# Set the title and labels for the plot\n",
    "plt.title('Distribution of Ages by Explicit Group', fontsize=16)\n",
    "plt.xlabel('Age Group', fontsize=12)\n",
    "plt.ylabel('Frequency', fontsize=12)\n",
    "plt.xticks(rotation=45)\n",
    "plt.tight_layout()\n",
    "plt.show()"
   ]
  },
  {
   "cell_type": "markdown",
   "id": "cf1ebcb8",
   "metadata": {},
   "source": [
    "There are underscores in age, to remove"
   ]
  },
  {
   "cell_type": "markdown",
   "id": "10117655",
   "metadata": {},
   "source": []
  }
 ],
 "metadata": {
  "kernelspec": {
   "display_name": "Python 3 (ipykernel)",
   "language": "python",
   "name": "python3"
  },
  "language_info": {
   "codemirror_mode": {
    "name": "ipython",
    "version": 3
   },
   "file_extension": ".py",
   "mimetype": "text/x-python",
   "name": "python",
   "nbconvert_exporter": "python",
   "pygments_lexer": "ipython3",
   "version": "3.12.11"
  }
 },
 "nbformat": 4,
 "nbformat_minor": 5
}
